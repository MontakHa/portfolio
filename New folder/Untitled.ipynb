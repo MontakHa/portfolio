{
 "cells": [
  {
   "cell_type": "code",
   "execution_count": 4,
   "id": "96110f10-9377-4671-a145-5359fae10a14",
   "metadata": {},
   "outputs": [],
   "source": [
    "import pandas as pd\n",
    "\n",
    "series = [1,2,3,4,5,6]"
   ]
  },
  {
   "cell_type": "code",
   "execution_count": 6,
   "id": "ab037022-ac9a-47dc-be23-1c0dcf7a3162",
   "metadata": {},
   "outputs": [
    {
     "name": "stdout",
     "output_type": "stream",
     "text": [
      "[1, 2, 3, 4, 5, 6]\n"
     ]
    }
   ],
   "source": [
    "print(series)"
   ]
  },
  {
   "cell_type": "code",
   "execution_count": 10,
   "id": "d7b1d499-883b-44c6-9dd7-90f1e99eaf9a",
   "metadata": {},
   "outputs": [
    {
     "ename": "NameError",
     "evalue": "name 'Enter' is not defined",
     "output_type": "error",
     "traceback": [
      "\u001b[1;31m---------------------------------------------------------------------------\u001b[0m",
      "\u001b[1;31mNameError\u001b[0m                                 Traceback (most recent call last)",
      "Cell \u001b[1;32mIn[10], line 1\u001b[0m\n\u001b[1;32m----> 1\u001b[0m hello1 \u001b[38;5;241m=\u001b[39m \u001b[38;5;28minput\u001b[39m(Enter(\u001b[38;5;124m\"\u001b[39m\u001b[38;5;124mhello\u001b[39m\u001b[38;5;124m\"\u001b[39m))\n\u001b[0;32m      2\u001b[0m \u001b[38;5;28mprint\u001b[39m(hello1)\n",
      "\u001b[1;31mNameError\u001b[0m: name 'Enter' is not defined"
     ]
    }
   ],
   "source": [
    "hello1 = input(Enter(\"hello\"))\n",
    "print(hello1)"
   ]
  },
  {
   "cell_type": "code",
   "execution_count": 12,
   "id": "a1eda466-37c8-408d-9eef-dd22be24988a",
   "metadata": {},
   "outputs": [
    {
     "ename": "ModuleNotFoundError",
     "evalue": "No module named 'direct'",
     "output_type": "error",
     "traceback": [
      "\u001b[1;31m---------------------------------------------------------------------------\u001b[0m",
      "\u001b[1;31mModuleNotFoundError\u001b[0m                       Traceback (most recent call last)",
      "Cell \u001b[1;32mIn[12], line 1\u001b[0m\n\u001b[1;32m----> 1\u001b[0m \u001b[38;5;28;01mfrom\u001b[39;00m \u001b[38;5;21;01mdirect\u001b[39;00m\u001b[38;5;21;01m.\u001b[39;00m\u001b[38;5;21;01mshowbase\u001b[39;00m\u001b[38;5;21;01m.\u001b[39;00m\u001b[38;5;21;01mShowBase\u001b[39;00m \u001b[38;5;28;01mimport\u001b[39;00m ShowBase\n\u001b[0;32m      2\u001b[0m \u001b[38;5;28;01mfrom\u001b[39;00m \u001b[38;5;21;01mpanda3d\u001b[39;00m\u001b[38;5;21;01m.\u001b[39;00m\u001b[38;5;21;01mcore\u001b[39;00m \u001b[38;5;28;01mimport\u001b[39;00m Point3\n\u001b[0;32m      4\u001b[0m \u001b[38;5;28;01mclass\u001b[39;00m \u001b[38;5;21;01mMyGame\u001b[39;00m(ShowBase):\n",
      "\u001b[1;31mModuleNotFoundError\u001b[0m: No module named 'direct'"
     ]
    }
   ],
   "source": [
    "from direct.showbase.ShowBase import ShowBase\n",
    "from panda3d.core import Point3\n",
    "\n",
    "class MyGame(ShowBase):\n",
    "    def __init__(self):\n",
    "        super().__init__()\n",
    "\n",
    "        # Load the environment model\n",
    "        self.environ = self.loader.loadModel(\"models/environment\")\n",
    "        self.environ.reparentTo(self.render)\n",
    "        self.environ.setScale(0.25, 0.25, 0.25)\n",
    "        self.environ.setPos(-8, 42, 0)\n",
    "\n",
    "        # Load a panda actor (animated model)\n",
    "        self.pandaActor = self.loader.loadModel(\"models/panda\")\n",
    "        self.pandaActor.reparentTo(self.render)\n",
    "        self.pandaActor.setScale(0.005, 0.005, 0.005)\n",
    "        self.pandaActor.setPos(Point3(0, 10, 0))\n",
    "\n",
    "        # Make the panda spin\n",
    "        self.taskMgr.add(self.spin_panda, \"SpinPandaTask\")\n",
    "\n",
    "    def spin_panda(self, task):\n",
    "        angleDegrees = task.time * 60.0\n",
    "        angleRadians = angleDegrees * (3.14159 / 180.0)\n",
    "        self.pandaActor.setHpr(angleDegrees, 0, 0)\n",
    "        return task.cont\n",
    "\n",
    "game = MyGame()\n",
    "game.run()\n"
   ]
  },
  {
   "cell_type": "code",
   "execution_count": 16,
   "id": "d27d2bd9-8547-4f57-89cd-06ca7275fb24",
   "metadata": {},
   "outputs": [
    {
     "name": "stdout",
     "output_type": "stream",
     "text": [
      "Collecting pygame\n",
      "  Downloading pygame-2.6.1-cp312-cp312-win_amd64.whl.metadata (13 kB)\n",
      "Downloading pygame-2.6.1-cp312-cp312-win_amd64.whl (10.6 MB)\n",
      "   ---------------------------------------- 0.0/10.6 MB ? eta -:--:--\n",
      "   ------------- -------------------------- 3.7/10.6 MB 21.7 MB/s eta 0:00:01\n",
      "   ----------------- ---------------------- 4.7/10.6 MB 12.4 MB/s eta 0:00:01\n",
      "   --------------------- ------------------ 5.8/10.6 MB 9.5 MB/s eta 0:00:01\n",
      "   ----------------------- ---------------- 6.3/10.6 MB 7.9 MB/s eta 0:00:01\n",
      "   -------------------------- ------------- 7.1/10.6 MB 6.6 MB/s eta 0:00:01\n",
      "   ---------------------------- ----------- 7.6/10.6 MB 6.0 MB/s eta 0:00:01\n",
      "   ------------------------------ --------- 8.1/10.6 MB 5.6 MB/s eta 0:00:01\n",
      "   ---------------------------------- ----- 9.2/10.6 MB 5.4 MB/s eta 0:00:01\n",
      "   ---------------------------------------  10.5/10.6 MB 5.5 MB/s eta 0:00:01\n",
      "   ---------------------------------------  10.5/10.6 MB 5.5 MB/s eta 0:00:01\n",
      "   ---------------------------------------- 10.6/10.6 MB 4.6 MB/s eta 0:00:00\n",
      "Installing collected packages: pygame\n",
      "Successfully installed pygame-2.6.1\n",
      "Note: you may need to restart the kernel to use updated packages.\n"
     ]
    }
   ],
   "source": [
    "pip install pygame\n"
   ]
  },
  {
   "cell_type": "code",
   "execution_count": null,
   "id": "38098bf2-74d9-4109-9ac8-39ffbf471a5b",
   "metadata": {},
   "outputs": [
    {
     "name": "stdout",
     "output_type": "stream",
     "text": [
      "pygame 2.6.1 (SDL 2.28.4, Python 3.12.7)\n",
      "Hello from the pygame community. https://www.pygame.org/contribute.html\n"
     ]
    }
   ],
   "source": [
    "import pygame\n",
    "import sys\n",
    "\n",
    "# 1. Initialize Pygame\n",
    "pygame.init()\n",
    "\n",
    "# 2. Set up the screen dimensions\n",
    "screen_width = 800\n",
    "screen_height = 600\n",
    "screen = pygame.display.set_mode((screen_width, screen_height))\n",
    "pygame.display.set_caption(\"My Simple Pygame\") # Set window title\n",
    "\n",
    "# Set up the frame rate\n",
    "clock = pygame.time.Clock()\n",
    "FPS = 60 # Frames per second\n",
    "\n",
    "# 3. Game Loop\n",
    "running = True\n",
    "while running:\n",
    "    # Event Handling\n",
    "    for event in pygame.event.get():\n",
    "        if event.type == pygame.QUIT: # Check if the user closed the window\n",
    "            running = False\n",
    "\n",
    "    # Drawing (example: fill background black)\n",
    "    screen.fill((0, 0, 0)) # RGB color for black\n",
    "\n",
    "    # Update the display\n",
    "    pygame.display.flip() # Or pygame.display.update()\n",
    "\n",
    "    # Cap the frame rate\n",
    "    clock.tick(FPS)\n",
    "\n",
    "# 4. Quit Pygame\n",
    "pygame.quit()\n",
    "sys.exit()\n"
   ]
  },
  {
   "cell_type": "code",
   "execution_count": null,
   "id": "2ae2fe5d-d9ae-4f8c-9d18-4e2e427c92a6",
   "metadata": {},
   "outputs": [],
   "source": [
    "# ... (previous code) ...\n",
    "\n",
    "# Player settings\n",
    "player_width = 50\n",
    "player_height = 50\n",
    "player_x = screen_width // 2 - player_width // 2 # Center horizontally\n",
    "player_y = screen_height - player_height - 10 # Near the bottom\n",
    "player_speed = 5\n",
    "\n",
    "# ... (inside the game loop, after screen.fill) ...\n",
    "\n",
    "    # Handle Player Movement\n",
    "    keys = pygame.key.get_pressed() # Get all pressed keys\n",
    "    if keys[pygame.K_LEFT] and player_x > 0: # Move left, boundary check\n",
    "        player_x -= player_speed\n",
    "    if keys[pygame.K_RIGHT] and player_x < screen_width - player_width: # Move right, boundary check\n",
    "        player_x += player_speed\n",
    "\n",
    "    # Draw the player\n",
    "    # draw.rect(surface, color, (x, y, width, height))\n",
    "    pygame.draw.rect(screen, (0, 128, 255), (player_x, player_y, player_width, player_height)) # Blue rectangle\n",
    "\n",
    "# ... (rest of the game loop and quit) ...\n"
   ]
  }
 ],
 "metadata": {
  "kernelspec": {
   "display_name": "Python 3 (ipykernel)",
   "language": "python",
   "name": "python3"
  },
  "language_info": {
   "codemirror_mode": {
    "name": "ipython",
    "version": 3
   },
   "file_extension": ".py",
   "mimetype": "text/x-python",
   "name": "python",
   "nbconvert_exporter": "python",
   "pygments_lexer": "ipython3",
   "version": "3.12.7"
  }
 },
 "nbformat": 4,
 "nbformat_minor": 5
}
